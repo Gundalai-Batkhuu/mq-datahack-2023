{
 "cells": [
  {
   "cell_type": "code",
   "execution_count": 1,
   "id": "e110deda",
   "metadata": {},
   "outputs": [],
   "source": [
    "from sklearn.model_selection import train_test_split"
   ]
  },
  {
   "cell_type": "code",
   "execution_count": 2,
   "id": "619dd2a1",
   "metadata": {
    "scrolled": true
   },
   "outputs": [
    {
     "data": {
      "text/html": [
       "<pre style=\"white-space:pre;overflow-x:auto;line-height:normal;font-family:Menlo,'DejaVu Sans Mono',consolas,'Courier New',monospace\"></pre>\n"
      ],
      "text/plain": []
     },
     "metadata": {},
     "output_type": "display_data"
    },
    {
     "data": {
      "text/plain": [
       "\n",
       "\u001b[1m[\u001b[0m\n",
       "    \u001b[32m'iris_raw'\u001b[0m,\n",
       "    \u001b[32m'SVC'\u001b[0m,\n",
       "    \u001b[32m'svm_metrics'\u001b[0m,\n",
       "    \u001b[32m'companies'\u001b[0m,\n",
       "    \u001b[32m'reviews'\u001b[0m,\n",
       "    \u001b[32m'shuttles'\u001b[0m,\n",
       "    \u001b[32m'preprocessed_companies'\u001b[0m,\n",
       "    \u001b[32m'preprocessed_shuttles'\u001b[0m,\n",
       "    \u001b[32m'model_input_table'\u001b[0m,\n",
       "    \u001b[32m'active_modelling_pipeline.regressor'\u001b[0m,\n",
       "    \u001b[32m'candidate_modelling_pipeline.regressor'\u001b[0m,\n",
       "    \u001b[32m'shuttle_passenger_capacity_plot_exp'\u001b[0m,\n",
       "    \u001b[32m'shuttle_passenger_capacity_plot_go'\u001b[0m,\n",
       "    \u001b[32m'dummy_confusion_matrix'\u001b[0m,\n",
       "    \u001b[32m'metrics'\u001b[0m,\n",
       "    \u001b[32m'active_modelling_pipeline.metrics'\u001b[0m,\n",
       "    \u001b[32m'candidate_modelling_pipeline.metrics'\u001b[0m,\n",
       "    \u001b[32m'companies_columns'\u001b[0m,\n",
       "    \u001b[32m'confusion_matrix'\u001b[0m,\n",
       "    \u001b[32m'parameters'\u001b[0m,\n",
       "    \u001b[32m'params:active_modelling_pipeline'\u001b[0m,\n",
       "    \u001b[32m'params:active_modelling_pipeline.model_options'\u001b[0m,\n",
       "    \u001b[32m'params:active_modelling_pipeline.model_options.test_size'\u001b[0m,\n",
       "    \u001b[32m'params:active_modelling_pipeline.model_options.random_state'\u001b[0m,\n",
       "    \u001b[32m'params:active_modelling_pipeline.model_options.features'\u001b[0m,\n",
       "    \u001b[32m'params:candidate_modelling_pipeline'\u001b[0m,\n",
       "    \u001b[32m'params:candidate_modelling_pipeline.model_options'\u001b[0m,\n",
       "    \u001b[32m'params:candidate_modelling_pipeline.model_options.test_size'\u001b[0m,\n",
       "    \u001b[32m'params:candidate_modelling_pipeline.model_options.random_state'\u001b[0m,\n",
       "    \u001b[32m'params:candidate_modelling_pipeline.model_options.features'\u001b[0m\n",
       "\u001b[1m]\u001b[0m"
      ]
     },
     "execution_count": 2,
     "metadata": {},
     "output_type": "execute_result"
    }
   ],
   "source": [
    "catalog.list()"
   ]
  },
  {
   "cell_type": "code",
   "execution_count": 3,
   "id": "2a14b2f7",
   "metadata": {},
   "outputs": [
    {
     "data": {
      "text/html": [
       "<pre style=\"white-space:pre;overflow-x:auto;line-height:normal;font-family:Menlo,'DejaVu Sans Mono',consolas,'Courier New',monospace\"><span style=\"color: #7fbfbf; text-decoration-color: #7fbfbf\">[09/02/23 23:12:01] </span><span style=\"color: #000080; text-decoration-color: #000080\">INFO    </span> Loading data from <span style=\"color: #008000; text-decoration-color: #008000\">'iris_raw'</span> <span style=\"font-weight: bold\">(</span>CSVDataSet<span style=\"font-weight: bold\">)</span><span style=\"color: #808000; text-decoration-color: #808000\">...</span>                       <a href=\"file://C:\\Users\\gdbt0\\anaconda3\\envs\\mq-datahack-2023\\lib\\site-packages\\kedro\\io\\data_catalog.py\" target=\"_blank\"><span style=\"color: #7f7f7f; text-decoration-color: #7f7f7f\">data_catalog.py</span></a><span style=\"color: #7f7f7f; text-decoration-color: #7f7f7f\">:</span><a href=\"file://C:\\Users\\gdbt0\\anaconda3\\envs\\mq-datahack-2023\\lib\\site-packages\\kedro\\io\\data_catalog.py#492\" target=\"_blank\"><span style=\"color: #7f7f7f; text-decoration-color: #7f7f7f\">492</span></a>\n",
       "</pre>\n"
      ],
      "text/plain": [
       "\u001b[2;36m[09/02/23 23:12:01]\u001b[0m\u001b[2;36m \u001b[0m\u001b[34mINFO    \u001b[0m Loading data from \u001b[32m'iris_raw'\u001b[0m \u001b[1m(\u001b[0mCSVDataSet\u001b[1m)\u001b[0m\u001b[33m...\u001b[0m                       \u001b]8;id=184455;file://C:\\Users\\gdbt0\\anaconda3\\envs\\mq-datahack-2023\\lib\\site-packages\\kedro\\io\\data_catalog.py\u001b\\\u001b[2mdata_catalog.py\u001b[0m\u001b]8;;\u001b\\\u001b[2m:\u001b[0m\u001b]8;id=375632;file://C:\\Users\\gdbt0\\anaconda3\\envs\\mq-datahack-2023\\lib\\site-packages\\kedro\\io\\data_catalog.py#492\u001b\\\u001b[2m492\u001b[0m\u001b]8;;\u001b\\\n"
      ]
     },
     "metadata": {},
     "output_type": "display_data"
    }
   ],
   "source": [
    "df = catalog.load('iris_raw')"
   ]
  },
  {
   "cell_type": "code",
   "execution_count": 4,
   "id": "91324c02",
   "metadata": {
    "scrolled": true
   },
   "outputs": [],
   "source": [
    "X = df.loc[:, df.columns != 'target']  # Taking only the petal length and petal width\n",
    "y = df['target']\n",
    "X_train, X_test, y_train, y_test = train_test_split(X, y, test_size=0.20)"
   ]
  },
  {
   "cell_type": "code",
   "execution_count": null,
   "id": "34fba536",
   "metadata": {},
   "outputs": [],
   "source": []
  }
 ],
 "metadata": {
  "kernelspec": {
   "display_name": "Kedro (mq_datahack_2023)",
   "language": "python",
   "name": "kedro_mq_datahack_2023"
  },
  "language_info": {
   "codemirror_mode": {
    "name": "ipython",
    "version": 3
   },
   "file_extension": ".py",
   "mimetype": "text/x-python",
   "name": "python",
   "nbconvert_exporter": "python",
   "pygments_lexer": "ipython3",
   "version": "3.10.12"
  }
 },
 "nbformat": 4,
 "nbformat_minor": 5
}
